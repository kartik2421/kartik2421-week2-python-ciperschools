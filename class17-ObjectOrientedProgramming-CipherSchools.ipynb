{
 "cells": [
  {
   "attachments": {},
   "cell_type": "markdown",
   "metadata": {},
   "source": [
    "- Abstraction\n",
    "- Encapsulation \n",
    "- Polymorphism\n",
    "- Inheritance"
   ]
  },
  {
   "cell_type": "code",
   "execution_count": 2,
   "metadata": {},
   "outputs": [],
   "source": [
    "student1 = {\n",
    "    \"name\":\"drake\",\n",
    "    \"marks\": 99\n",
    "}\n",
    "student2 = {\n",
    "    \"name\": \"Joey\",\n",
    "    \"marks\": 100\n",
    "}"
   ]
  },
  {
   "attachments": {},
   "cell_type": "markdown",
   "metadata": {},
   "source": [
    "### Classes and Objects\n",
    "Python object can have multiple trait\n",
    "- callable (e.g. functions and classes)\n",
    "- iterable (e.g. list,string, generator)\n",
    "- contextable (e.g. files)\n"
   ]
  },
  {
   "cell_type": "code",
   "execution_count": 3,
   "metadata": {},
   "outputs": [
    {
     "name": "stdout",
     "output_type": "stream",
     "text": [
      "<__main__.person object at 0x000002AC061517E0>\n"
     ]
    }
   ],
   "source": [
    "class person:\n",
    "    pass\n",
    "P=person()\n",
    "print(P)"
   ]
  },
  {
   "cell_type": "code",
   "execution_count": 6,
   "metadata": {},
   "outputs": [
    {
     "data": {
      "text/plain": [
       "'0x2ac061517e0'"
      ]
     },
     "execution_count": 6,
     "metadata": {},
     "output_type": "execute_result"
    }
   ],
   "source": [
    "hex(id(P))"
   ]
  },
  {
   "cell_type": "code",
   "execution_count": 7,
   "metadata": {},
   "outputs": [],
   "source": [
    "a=1\n"
   ]
  },
  {
   "cell_type": "code",
   "execution_count": 8,
   "metadata": {},
   "outputs": [],
   "source": [
    " def square(a): \n",
    "    return a**2\n",
    "    "
   ]
  },
  {
   "cell_type": "code",
   "execution_count": 12,
   "metadata": {},
   "outputs": [
    {
     "name": "stdout",
     "output_type": "stream",
     "text": [
      "Hey There, I am Drake\n"
     ]
    }
   ],
   "source": [
    "class Person:\n",
    "    name =\"Drake\"\n",
    "    def say_hi(self):\n",
    "        print(f\"Hey There, I am {self.name}\")\n",
    "p =Person() # Method Call\n",
    "p.say_hi() # Funcion Call"
   ]
  }
 ],
 "metadata": {
  "kernelspec": {
   "display_name": "Python 3",
   "language": "python",
   "name": "python3"
  },
  "language_info": {
   "codemirror_mode": {
    "name": "ipython",
    "version": 3
   },
   "file_extension": ".py",
   "mimetype": "text/x-python",
   "name": "python",
   "nbconvert_exporter": "python",
   "pygments_lexer": "ipython3",
   "version": "3.10.7"
  },
  "orig_nbformat": 4,
  "vscode": {
   "interpreter": {
    "hash": "d7e02be9b998c49b29c93fb110217049b290f21a9cc73c00e7cb6e2c8f3f70f7"
   }
  }
 },
 "nbformat": 4,
 "nbformat_minor": 2
}
